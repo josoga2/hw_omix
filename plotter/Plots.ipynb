{
 "cells": [
  {
   "cell_type": "markdown",
   "metadata": {},
   "source": [
    "# Plotting"
   ]
  },
  {
   "cell_type": "code",
   "execution_count": 1,
   "metadata": {},
   "outputs": [],
   "source": [
    "import pandas as pd\n",
    "import matplotlib.pyplot as plt\n",
    "import seaborn as sns\n",
    "%matplotlib inline\n"
   ]
  },
  {
   "cell_type": "markdown",
   "metadata": {},
   "source": [
    "### Epiblast"
   ]
  },
  {
   "cell_type": "code",
   "execution_count": 2,
   "metadata": {},
   "outputs": [],
   "source": [
    "Epi1 = pd.read_csv('symEpi1.meth', sep='\\t', header=None)\n",
    "Epi2 = pd.read_csv('symEpi2.meth', sep='\\t', header=None)"
   ]
  },
  {
   "cell_type": "code",
   "execution_count": 3,
   "metadata": {},
   "outputs": [
    {
     "data": {
      "text/html": [
       "<div>\n",
       "<style scoped>\n",
       "    .dataframe tbody tr th:only-of-type {\n",
       "        vertical-align: middle;\n",
       "    }\n",
       "\n",
       "    .dataframe tbody tr th {\n",
       "        vertical-align: top;\n",
       "    }\n",
       "\n",
       "    .dataframe thead th {\n",
       "        text-align: right;\n",
       "    }\n",
       "</style>\n",
       "<table border=\"1\" class=\"dataframe\">\n",
       "  <thead>\n",
       "    <tr style=\"text-align: right;\">\n",
       "      <th></th>\n",
       "      <th>0</th>\n",
       "      <th>1</th>\n",
       "      <th>2</th>\n",
       "      <th>3</th>\n",
       "      <th>4</th>\n",
       "      <th>5</th>\n",
       "    </tr>\n",
       "  </thead>\n",
       "  <tbody>\n",
       "    <tr>\n",
       "      <td>0</td>\n",
       "      <td>chr19</td>\n",
       "      <td>3000118</td>\n",
       "      <td>+</td>\n",
       "      <td>CpG</td>\n",
       "      <td>0.818182</td>\n",
       "      <td>22</td>\n",
       "    </tr>\n",
       "    <tr>\n",
       "      <td>1</td>\n",
       "      <td>chr19</td>\n",
       "      <td>3000315</td>\n",
       "      <td>+</td>\n",
       "      <td>CpG</td>\n",
       "      <td>0.821429</td>\n",
       "      <td>28</td>\n",
       "    </tr>\n",
       "    <tr>\n",
       "      <td>2</td>\n",
       "      <td>chr19</td>\n",
       "      <td>3000602</td>\n",
       "      <td>+</td>\n",
       "      <td>CpG</td>\n",
       "      <td>0.954545</td>\n",
       "      <td>22</td>\n",
       "    </tr>\n",
       "    <tr>\n",
       "      <td>3</td>\n",
       "      <td>chr19</td>\n",
       "      <td>3000718</td>\n",
       "      <td>+</td>\n",
       "      <td>CpG</td>\n",
       "      <td>0.842105</td>\n",
       "      <td>19</td>\n",
       "    </tr>\n",
       "    <tr>\n",
       "      <td>4</td>\n",
       "      <td>chr19</td>\n",
       "      <td>3000720</td>\n",
       "      <td>+</td>\n",
       "      <td>CpG</td>\n",
       "      <td>0.526316</td>\n",
       "      <td>19</td>\n",
       "    </tr>\n",
       "  </tbody>\n",
       "</table>\n",
       "</div>"
      ],
      "text/plain": [
       "       0        1  2    3         4   5\n",
       "0  chr19  3000118  +  CpG  0.818182  22\n",
       "1  chr19  3000315  +  CpG  0.821429  28\n",
       "2  chr19  3000602  +  CpG  0.954545  22\n",
       "3  chr19  3000718  +  CpG  0.842105  19\n",
       "4  chr19  3000720  +  CpG  0.526316  19"
      ]
     },
     "execution_count": 3,
     "metadata": {},
     "output_type": "execute_result"
    }
   ],
   "source": [
    "Epi1.head()"
   ]
  },
  {
   "cell_type": "code",
   "execution_count": 4,
   "metadata": {},
   "outputs": [
    {
     "data": {
      "text/html": [
       "<div>\n",
       "<style scoped>\n",
       "    .dataframe tbody tr th:only-of-type {\n",
       "        vertical-align: middle;\n",
       "    }\n",
       "\n",
       "    .dataframe tbody tr th {\n",
       "        vertical-align: top;\n",
       "    }\n",
       "\n",
       "    .dataframe thead th {\n",
       "        text-align: right;\n",
       "    }\n",
       "</style>\n",
       "<table border=\"1\" class=\"dataframe\">\n",
       "  <thead>\n",
       "    <tr style=\"text-align: right;\">\n",
       "      <th></th>\n",
       "      <th>0</th>\n",
       "      <th>1</th>\n",
       "      <th>2</th>\n",
       "      <th>3</th>\n",
       "      <th>4</th>\n",
       "      <th>5</th>\n",
       "    </tr>\n",
       "  </thead>\n",
       "  <tbody>\n",
       "    <tr>\n",
       "      <td>0</td>\n",
       "      <td>chr19</td>\n",
       "      <td>3000118</td>\n",
       "      <td>+</td>\n",
       "      <td>CpG</td>\n",
       "      <td>0.913043</td>\n",
       "      <td>23</td>\n",
       "    </tr>\n",
       "    <tr>\n",
       "      <td>1</td>\n",
       "      <td>chr19</td>\n",
       "      <td>3000315</td>\n",
       "      <td>+</td>\n",
       "      <td>CpG</td>\n",
       "      <td>0.903226</td>\n",
       "      <td>31</td>\n",
       "    </tr>\n",
       "    <tr>\n",
       "      <td>2</td>\n",
       "      <td>chr19</td>\n",
       "      <td>3000602</td>\n",
       "      <td>+</td>\n",
       "      <td>CpG</td>\n",
       "      <td>0.842105</td>\n",
       "      <td>38</td>\n",
       "    </tr>\n",
       "    <tr>\n",
       "      <td>3</td>\n",
       "      <td>chr19</td>\n",
       "      <td>3000718</td>\n",
       "      <td>+</td>\n",
       "      <td>CpG</td>\n",
       "      <td>0.794118</td>\n",
       "      <td>34</td>\n",
       "    </tr>\n",
       "    <tr>\n",
       "      <td>4</td>\n",
       "      <td>chr19</td>\n",
       "      <td>3000720</td>\n",
       "      <td>+</td>\n",
       "      <td>CpG</td>\n",
       "      <td>0.484848</td>\n",
       "      <td>33</td>\n",
       "    </tr>\n",
       "  </tbody>\n",
       "</table>\n",
       "</div>"
      ],
      "text/plain": [
       "       0        1  2    3         4   5\n",
       "0  chr19  3000118  +  CpG  0.913043  23\n",
       "1  chr19  3000315  +  CpG  0.903226  31\n",
       "2  chr19  3000602  +  CpG  0.842105  38\n",
       "3  chr19  3000718  +  CpG  0.794118  34\n",
       "4  chr19  3000720  +  CpG  0.484848  33"
      ]
     },
     "execution_count": 4,
     "metadata": {},
     "output_type": "execute_result"
    }
   ],
   "source": [
    "Epi2.head()"
   ]
  },
  {
   "cell_type": "code",
   "execution_count": 5,
   "metadata": {},
   "outputs": [],
   "source": [
    "Epi1.columns = ['a','b','c','d','e','f']\n",
    "Epi2.columns = ['a','b','c','d','e','f']"
   ]
  },
  {
   "cell_type": "code",
   "execution_count": 6,
   "metadata": {},
   "outputs": [
    {
     "data": {
      "text/html": [
       "<div>\n",
       "<style scoped>\n",
       "    .dataframe tbody tr th:only-of-type {\n",
       "        vertical-align: middle;\n",
       "    }\n",
       "\n",
       "    .dataframe tbody tr th {\n",
       "        vertical-align: top;\n",
       "    }\n",
       "\n",
       "    .dataframe thead th {\n",
       "        text-align: right;\n",
       "    }\n",
       "</style>\n",
       "<table border=\"1\" class=\"dataframe\">\n",
       "  <thead>\n",
       "    <tr style=\"text-align: right;\">\n",
       "      <th></th>\n",
       "      <th>a</th>\n",
       "      <th>b</th>\n",
       "      <th>c</th>\n",
       "      <th>d</th>\n",
       "      <th>e</th>\n",
       "      <th>f</th>\n",
       "    </tr>\n",
       "  </thead>\n",
       "  <tbody>\n",
       "    <tr>\n",
       "      <td>0</td>\n",
       "      <td>chr19</td>\n",
       "      <td>3000118</td>\n",
       "      <td>+</td>\n",
       "      <td>CpG</td>\n",
       "      <td>0.818182</td>\n",
       "      <td>22</td>\n",
       "    </tr>\n",
       "    <tr>\n",
       "      <td>1</td>\n",
       "      <td>chr19</td>\n",
       "      <td>3000315</td>\n",
       "      <td>+</td>\n",
       "      <td>CpG</td>\n",
       "      <td>0.821429</td>\n",
       "      <td>28</td>\n",
       "    </tr>\n",
       "    <tr>\n",
       "      <td>2</td>\n",
       "      <td>chr19</td>\n",
       "      <td>3000602</td>\n",
       "      <td>+</td>\n",
       "      <td>CpG</td>\n",
       "      <td>0.954545</td>\n",
       "      <td>22</td>\n",
       "    </tr>\n",
       "    <tr>\n",
       "      <td>3</td>\n",
       "      <td>chr19</td>\n",
       "      <td>3000718</td>\n",
       "      <td>+</td>\n",
       "      <td>CpG</td>\n",
       "      <td>0.842105</td>\n",
       "      <td>19</td>\n",
       "    </tr>\n",
       "    <tr>\n",
       "      <td>4</td>\n",
       "      <td>chr19</td>\n",
       "      <td>3000720</td>\n",
       "      <td>+</td>\n",
       "      <td>CpG</td>\n",
       "      <td>0.526316</td>\n",
       "      <td>19</td>\n",
       "    </tr>\n",
       "  </tbody>\n",
       "</table>\n",
       "</div>"
      ],
      "text/plain": [
       "       a        b  c    d         e   f\n",
       "0  chr19  3000118  +  CpG  0.818182  22\n",
       "1  chr19  3000315  +  CpG  0.821429  28\n",
       "2  chr19  3000602  +  CpG  0.954545  22\n",
       "3  chr19  3000718  +  CpG  0.842105  19\n",
       "4  chr19  3000720  +  CpG  0.526316  19"
      ]
     },
     "execution_count": 6,
     "metadata": {},
     "output_type": "execute_result"
    }
   ],
   "source": [
    "Epi1.head()"
   ]
  },
  {
   "cell_type": "code",
   "execution_count": 7,
   "metadata": {},
   "outputs": [
    {
     "data": {
      "text/html": [
       "<div>\n",
       "<style scoped>\n",
       "    .dataframe tbody tr th:only-of-type {\n",
       "        vertical-align: middle;\n",
       "    }\n",
       "\n",
       "    .dataframe tbody tr th {\n",
       "        vertical-align: top;\n",
       "    }\n",
       "\n",
       "    .dataframe thead th {\n",
       "        text-align: right;\n",
       "    }\n",
       "</style>\n",
       "<table border=\"1\" class=\"dataframe\">\n",
       "  <thead>\n",
       "    <tr style=\"text-align: right;\">\n",
       "      <th></th>\n",
       "      <th>a</th>\n",
       "      <th>b</th>\n",
       "      <th>c</th>\n",
       "      <th>d</th>\n",
       "      <th>e</th>\n",
       "      <th>f</th>\n",
       "    </tr>\n",
       "  </thead>\n",
       "  <tbody>\n",
       "    <tr>\n",
       "      <td>0</td>\n",
       "      <td>chr19</td>\n",
       "      <td>3000118</td>\n",
       "      <td>+</td>\n",
       "      <td>CpG</td>\n",
       "      <td>0.913043</td>\n",
       "      <td>23</td>\n",
       "    </tr>\n",
       "    <tr>\n",
       "      <td>1</td>\n",
       "      <td>chr19</td>\n",
       "      <td>3000315</td>\n",
       "      <td>+</td>\n",
       "      <td>CpG</td>\n",
       "      <td>0.903226</td>\n",
       "      <td>31</td>\n",
       "    </tr>\n",
       "    <tr>\n",
       "      <td>2</td>\n",
       "      <td>chr19</td>\n",
       "      <td>3000602</td>\n",
       "      <td>+</td>\n",
       "      <td>CpG</td>\n",
       "      <td>0.842105</td>\n",
       "      <td>38</td>\n",
       "    </tr>\n",
       "    <tr>\n",
       "      <td>3</td>\n",
       "      <td>chr19</td>\n",
       "      <td>3000718</td>\n",
       "      <td>+</td>\n",
       "      <td>CpG</td>\n",
       "      <td>0.794118</td>\n",
       "      <td>34</td>\n",
       "    </tr>\n",
       "    <tr>\n",
       "      <td>4</td>\n",
       "      <td>chr19</td>\n",
       "      <td>3000720</td>\n",
       "      <td>+</td>\n",
       "      <td>CpG</td>\n",
       "      <td>0.484848</td>\n",
       "      <td>33</td>\n",
       "    </tr>\n",
       "  </tbody>\n",
       "</table>\n",
       "</div>"
      ],
      "text/plain": [
       "       a        b  c    d         e   f\n",
       "0  chr19  3000118  +  CpG  0.913043  23\n",
       "1  chr19  3000315  +  CpG  0.903226  31\n",
       "2  chr19  3000602  +  CpG  0.842105  38\n",
       "3  chr19  3000718  +  CpG  0.794118  34\n",
       "4  chr19  3000720  +  CpG  0.484848  33"
      ]
     },
     "execution_count": 7,
     "metadata": {},
     "output_type": "execute_result"
    }
   ],
   "source": [
    "Epi2.head()"
   ]
  },
  {
   "cell_type": "code",
   "execution_count": 8,
   "metadata": {},
   "outputs": [
    {
     "name": "stdout",
     "output_type": "stream",
     "text": [
      "(552044, 6)\n",
      "(548982, 6)\n"
     ]
    }
   ],
   "source": [
    "print(Epi1.shape)\n",
    "print(Epi2.shape)"
   ]
  },
  {
   "cell_type": "code",
   "execution_count": 9,
   "metadata": {},
   "outputs": [],
   "source": [
    "epi_merge = pd.concat([Epi1,Epi2])"
   ]
  },
  {
   "cell_type": "code",
   "execution_count": 10,
   "metadata": {},
   "outputs": [
    {
     "data": {
      "text/html": [
       "<div>\n",
       "<style scoped>\n",
       "    .dataframe tbody tr th:only-of-type {\n",
       "        vertical-align: middle;\n",
       "    }\n",
       "\n",
       "    .dataframe tbody tr th {\n",
       "        vertical-align: top;\n",
       "    }\n",
       "\n",
       "    .dataframe thead th {\n",
       "        text-align: right;\n",
       "    }\n",
       "</style>\n",
       "<table border=\"1\" class=\"dataframe\">\n",
       "  <thead>\n",
       "    <tr style=\"text-align: right;\">\n",
       "      <th></th>\n",
       "      <th>a</th>\n",
       "      <th>b</th>\n",
       "      <th>c</th>\n",
       "      <th>d</th>\n",
       "      <th>e</th>\n",
       "      <th>f</th>\n",
       "    </tr>\n",
       "  </thead>\n",
       "  <tbody>\n",
       "    <tr>\n",
       "      <td>0</td>\n",
       "      <td>chr19</td>\n",
       "      <td>3000118</td>\n",
       "      <td>+</td>\n",
       "      <td>CpG</td>\n",
       "      <td>0.818182</td>\n",
       "      <td>22</td>\n",
       "    </tr>\n",
       "    <tr>\n",
       "      <td>1</td>\n",
       "      <td>chr19</td>\n",
       "      <td>3000315</td>\n",
       "      <td>+</td>\n",
       "      <td>CpG</td>\n",
       "      <td>0.821429</td>\n",
       "      <td>28</td>\n",
       "    </tr>\n",
       "    <tr>\n",
       "      <td>2</td>\n",
       "      <td>chr19</td>\n",
       "      <td>3000602</td>\n",
       "      <td>+</td>\n",
       "      <td>CpG</td>\n",
       "      <td>0.954545</td>\n",
       "      <td>22</td>\n",
       "    </tr>\n",
       "    <tr>\n",
       "      <td>3</td>\n",
       "      <td>chr19</td>\n",
       "      <td>3000718</td>\n",
       "      <td>+</td>\n",
       "      <td>CpG</td>\n",
       "      <td>0.842105</td>\n",
       "      <td>19</td>\n",
       "    </tr>\n",
       "    <tr>\n",
       "      <td>4</td>\n",
       "      <td>chr19</td>\n",
       "      <td>3000720</td>\n",
       "      <td>+</td>\n",
       "      <td>CpG</td>\n",
       "      <td>0.526316</td>\n",
       "      <td>19</td>\n",
       "    </tr>\n",
       "  </tbody>\n",
       "</table>\n",
       "</div>"
      ],
      "text/plain": [
       "       a        b  c    d         e   f\n",
       "0  chr19  3000118  +  CpG  0.818182  22\n",
       "1  chr19  3000315  +  CpG  0.821429  28\n",
       "2  chr19  3000602  +  CpG  0.954545  22\n",
       "3  chr19  3000718  +  CpG  0.842105  19\n",
       "4  chr19  3000720  +  CpG  0.526316  19"
      ]
     },
     "execution_count": 10,
     "metadata": {},
     "output_type": "execute_result"
    }
   ],
   "source": [
    "epi_merge.head()"
   ]
  },
  {
   "cell_type": "code",
   "execution_count": 11,
   "metadata": {},
   "outputs": [
    {
     "data": {
      "text/plain": [
       "(1101026, 6)"
      ]
     },
     "execution_count": 11,
     "metadata": {},
     "output_type": "execute_result"
    }
   ],
   "source": [
    "epi_merge.shape"
   ]
  },
  {
   "cell_type": "code",
   "execution_count": 12,
   "metadata": {
    "scrolled": true
   },
   "outputs": [
    {
     "data": {
      "image/png": "[encoded data removed]",
      "text/plain": [
       "<Figure size 432x288 with 1 Axes>"
      ]
     },
     "metadata": {},
     "output_type": "display_data"
    }
   ],
   "source": [
    "sns.set(color_codes=True)\n",
    "sns.kdeplot(Epi1.e, shade=True, label = \"Replicate 1\")\n",
    "sns.kdeplot(Epi2.e, shade=True, label = \"Replicate 2\")\n",
    "#sns.kdeplot(epi_merge.e, shade=True, label = \"Pooled Data\")\n",
    "plt.legend()\n",
    "plt.grid(alpha=0.1, c = 'blue',)\n",
    "plt.savefig('Epiblast.png', dpi=150)"
   ]
  },
  {
   "cell_type": "code",
   "execution_count": 27,
   "metadata": {},
   "outputs": [
    {
     "data": {
      "image/png": "[encoded data removed]",
      "text/plain": [
       "<Figure size 432x288 with 1 Axes>"
      ]
     },
     "metadata": {},
     "output_type": "display_data"
    }
   ],
   "source": [
    "sns.set(color_codes=True)\n",
    "sns.distplot(Epi1.e, kde=False, bins=10 , label = \"Replicate 1\")\n",
    "sns.distplot(Epi2.e, kde=False, bins=10 ,  label = \"Replicate 2\")\n",
    "#sns.kdeplot(epi_merge.e, shade=True, label = \"Pooled Data\")\n",
    "plt.legend()\n",
    "plt.grid(alpha=0.1, c = 'blue',)\n",
    "plt.ylabel('CPG frequency')\n",
    "plt.xlabel('Delta value')\n",
    "plt.savefig('Epiblast_HIST.png', dpi=150)"
   ]
  },
  {
   "cell_type": "markdown",
   "metadata": {},
   "source": [
    "### ICM"
   ]
  },
  {
   "cell_type": "code",
   "execution_count": 20,
   "metadata": {},
   "outputs": [],
   "source": [
    "ICM1 = pd.read_csv('symICM1.meth', sep='\\t', header=None)\n",
    "ICM2 = pd.read_csv('symICM2.meth', sep='\\t', header=None)"
   ]
  },
  {
   "cell_type": "code",
   "execution_count": 21,
   "metadata": {},
   "outputs": [
    {
     "name": "stdout",
     "output_type": "stream",
     "text": [
      "(550454, 6)\n",
      "(550494, 6)\n"
     ]
    }
   ],
   "source": [
    "print(ICM1.shape)\n",
    "print(ICM2.shape)\n",
    "\n",
    "ICM1.columns = ['a','b','c','d','e','f']\n",
    "ICM2.columns = ['a','b','c','d','e','f']"
   ]
  },
  {
   "cell_type": "code",
   "execution_count": 22,
   "metadata": {},
   "outputs": [
    {
     "data": {
      "text/plain": [
       "(1100948, 6)"
      ]
     },
     "execution_count": 22,
     "metadata": {},
     "output_type": "execute_result"
    }
   ],
   "source": [
    "icm_merge = pd.concat([ICM1,ICM2])\n",
    "icm_merge.shape"
   ]
  },
  {
   "cell_type": "code",
   "execution_count": 23,
   "metadata": {
    "scrolled": true
   },
   "outputs": [
    {
     "data": {
      "image/png": "[encoded data removed]",
      "text/plain": [
       "<Figure size 432x288 with 1 Axes>"
      ]
     },
     "metadata": {},
     "output_type": "display_data"
    }
   ],
   "source": [
    "#sns.set(color_codes=True)\n",
    "sns.kdeplot(ICM1.e, shade=True, label = \"Replicate 1\")\n",
    "sns.kdeplot(ICM2.e, shade=True, label = \"Replicate 2\")\n",
    "#sns.kdeplot(icm_merge.e, shade=True, label = \"Pooled Data\")\n",
    "plt.legend()\n",
    "plt.grid(alpha=0.1, c = 'blue',)\n",
    "plt.savefig('icm.png', dpi=150)"
   ]
  },
  {
   "cell_type": "code",
   "execution_count": 26,
   "metadata": {},
   "outputs": [
    {
     "data": {
      "image/png": "[encoded data removed]",
      "text/plain": [
       "<Figure size 432x288 with 1 Axes>"
      ]
     },
     "metadata": {},
     "output_type": "display_data"
    }
   ],
   "source": [
    "sns.set(color_codes=True)\n",
    "sns.distplot(ICM1.e, kde=False, bins=10 , label = \"Replicate 1\")\n",
    "sns.distplot(ICM2.e, kde=False, bins=10 ,  label = \"Replicate 2\")\n",
    "#sns.kdeplot(epi_merge.e, shade=True, label = \"Pooled Data\")\n",
    "plt.legend()\n",
    "plt.grid(alpha=0.1, c = 'blue',)\n",
    "plt.ylabel('CPG frequency')\n",
    "plt.xlabel('Delta value')\n",
    "plt.savefig('ICM_HIST.png', dpi=150)"
   ]
  },
  {
   "cell_type": "markdown",
   "metadata": {},
   "source": [
    "### Pooling both cells"
   ]
  },
  {
   "cell_type": "code",
   "execution_count": 25,
   "metadata": {},
   "outputs": [
    {
     "data": {
      "image/png": "[encoded data removed]",
      "text/plain": [
       "<Figure size 432x288 with 1 Axes>"
      ]
     },
     "metadata": {},
     "output_type": "display_data"
    }
   ],
   "source": [
    "sns.kdeplot(epi_merge.e, shade=True, label = \"Epiblast\")\n",
    "sns.kdeplot(icm_merge.e, shade=True, label = \"ICM\")\n",
    "plt.legend()\n",
    "plt.grid(alpha=0.1, c = 'blue',)\n",
    "plt.savefig('all.png', dpi=150)"
   ]
  },
  {
   "cell_type": "code",
   "execution_count": null,
   "metadata": {},
   "outputs": [],
   "source": []
  }
 ],
 "metadata": {
  "kernelspec": {
   "display_name": "Python 3",
   "language": "python",
   "name": "python3"
  },
  "language_info": {
   "codemirror_mode": {
    "name": "ipython",
    "version": 3
   },
   "file_extension": ".py",
   "mimetype": "text/x-python",
   "name": "python",
   "nbconvert_exporter": "python",
   "pygments_lexer": "ipython3",
   "version": "3.7.4"
  }
 },
 "nbformat": 4,
 "nbformat_minor": 2
}
